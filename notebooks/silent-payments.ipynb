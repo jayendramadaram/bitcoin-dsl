{
 "cells": [
  {
   "cell_type": "markdown",
   "id": "152465ef-173b-4f83-998e-b164b1ab78d2",
   "metadata": {},
   "source": [
    "## Silent Payments\n",
    "\n",
    "Reference: https://gist.github.com/RubenSomsen/c43b79517e7cb701ebf77eec6dbb46b8\n",
    "\n",
    "BIP: https://github.com/bitcoin/bips/blob/57c89ae162b4dab971dc6061ba6acf7d676781ea/bip-0352.mediawiki\n",
    "\n",
    "To run this notebook: \n",
    "\n",
    "```\n",
    "docker pull ghcr.io/pool2win/bitcoin-dsl:release\n",
    "docker compose up bitcoin-dsl\n",
    "```"
   ]
  },
  {
   "cell_type": "markdown",
   "id": "1494f763-79c9-48f2-8015-3f279f4a98df",
   "metadata": {},
   "source": [
    "#### Create Keys\n",
    "\n",
    "The sender_input_key is the key from the input that the sender spends to create the silent payment."
   ]
  },
  {
   "cell_type": "code",
   "execution_count": null,
   "id": "ea04c5c6-f268-48da-84c9-5e13ed0900ab",
   "metadata": {},
   "outputs": [],
   "source": [
    "@sender_input_key = key :new\n",
    "@sender = key :new\n",
    "@receiver = key :new"
   ]
  },
  {
   "cell_type": "markdown",
   "id": "f1f9c9ac-a4fd-4325-b04e-e83956ef5ea3",
   "metadata": {},
   "source": [
    "#### Create Coinbases for Sender"
   ]
  },
  {
   "cell_type": "code",
   "execution_count": null,
   "id": "d595ffb2-78d3-4e5a-b39e-273ab30fd2a8",
   "metadata": {},
   "outputs": [],
   "source": [
    "extend_chain to: @sender_input_key, num_blocks: 101\n",
    "\n",
    "@sender_coinbase = spendable_coinbase_for @sender_input_key"
   ]
  },
  {
   "cell_type": "markdown",
   "id": "98e48fd7-8b3e-444f-ab42-ebefaa85f65d",
   "metadata": {},
   "source": [
    "#### Generate Silent Payment\n",
    "\n",
    "First we create the DH shared secret.\n",
    "\n",
    "We use that to tweak the receiver's public key to get the internal key to be used for the taproot transaction."
   ]
  },
  {
   "cell_type": "code",
   "execution_count": null,
   "id": "be0e5aa5-ec73-423c-a5d2-008652c5969e",
   "metadata": {},
   "outputs": [],
   "source": [
    "@sender_dh_share = multiply point: @receiver, scalar: @sender_input_key\n",
    "\n",
    "@taproot_output_key = tweak_public_key @receiver, with: hash160(@sender_dh_share)\n",
    "\n",
    "@taproot_output_tx = transaction inputs: [{ tx: @sender_coinbase, vout: 0, script_sig: 'sig:wpkh(@sender_input_key)' }],\n",
    "                                 outputs: [{ amount: 49.999.sats, taproot: { internal_key: @taproot_output_key } }]"
   ]
  },
  {
   "cell_type": "markdown",
   "id": "c7eb1a9e-ebab-4a1d-b556-8e33bd954417",
   "metadata": {},
   "source": [
    "#### Broadcast and Confirm the Silent Payment "
   ]
  },
  {
   "cell_type": "code",
   "execution_count": null,
   "id": "f2880a4e-51e3-4639-889c-58468412f302",
   "metadata": {},
   "outputs": [],
   "source": [
    "broadcast @taproot_output_tx\n",
    "\n",
    "confirm transaction: @taproot_output_tx\n",
    "extend_chain num_blocks: 100"
   ]
  },
  {
   "cell_type": "code",
   "execution_count": null,
   "id": "be0c2d8c-cc23-4b22-b2b3-7cc1e61d3682",
   "metadata": {},
   "outputs": [],
   "source": [
    "assert_equal @taproot_output_tx.inputs[0].script_witness.stack[1].bth, @sender_input_key.pubkey"
   ]
  },
  {
   "cell_type": "markdown",
   "id": "3aaf7157-5bf9-4195-8585-0e2e4e122c44",
   "metadata": {},
   "source": [
    "#### Tweak the Receiver's Private Key\n",
    "\n",
    "The receiver is watching the chain for a taproot transaction where the internal key is the receiver's public key tweaked with a DH secret. When a match is found, the receiver can spend that output whenever they want."
   ]
  },
  {
   "cell_type": "code",
   "execution_count": null,
   "id": "ff571289-5c40-49fe-98ec-343aa00e3cc7",
   "metadata": {},
   "outputs": [],
   "source": [
    "@receiver_dh_share = multiply point: @sender_input_key, scalar: @receiver\n",
    "@receiver_tweaked_private_key = tweak_private_key @receiver, with: hash160(@receiver_dh_share)"
   ]
  },
  {
   "cell_type": "code",
   "execution_count": null,
   "id": "44717191-6e7f-4fd4-81c9-dd0c73bcd58d",
   "metadata": {},
   "outputs": [],
   "source": [
    "@spend_received_payment_tx = transaction inputs: [{ tx: @taproot_output_tx, vout: 0, script_sig: {keypath: @receiver_tweaked_private_key} }],\n",
    "                                         outputs: [{ amount: 49.998.sats, descriptor: 'wpkh(@sender)' }]"
   ]
  },
  {
   "cell_type": "code",
   "execution_count": null,
   "id": "0f0dc22d-7259-4c01-8a92-a8fa96894bc5",
   "metadata": {},
   "outputs": [],
   "source": [
    "assert_mempool_accept @spend_received_payment_tx"
   ]
  },
  {
   "cell_type": "code",
   "execution_count": null,
   "id": "f0670318-5c5a-45ad-9cb5-ee859eee970d",
   "metadata": {},
   "outputs": [],
   "source": [
    "broadcast @spend_received_payment_tx"
   ]
  },
  {
   "cell_type": "code",
   "execution_count": null,
   "id": "b7b54cfb-8816-4185-ac55-90e4860ff40a",
   "metadata": {},
   "outputs": [],
   "source": [
    "extend_chain num_blocks: 100"
   ]
  }
 ],
 "metadata": {
  "kernelspec": {
   "display_name": "Bitcoin DSL",
   "language": "ruby",
   "name": "ruby"
  },
  "language_info": {
   "file_extension": ".rb",
   "mimetype": "application/x-ruby",
   "name": "ruby",
   "version": "3.2.2"
  }
 },
 "nbformat": 4,
 "nbformat_minor": 5
}
