{
 "cells": [
  {
   "cell_type": "markdown",
   "id": "152465ef-173b-4f83-998e-b164b1ab78d2",
   "metadata": {},
   "source": [
    "## Silent Payments\n",
    "\n",
    "Reference: https://gist.github.com/RubenSomsen/c43b79517e7cb701ebf77eec6dbb46b8\n",
    "\n",
    "BIP: https://github.com/bitcoin/bips/blob/57c89ae162b4dab971dc6061ba6acf7d676781ea/bip-0352.mediawiki\n",
    "\n",
    "To run this notebook: \n",
    "\n",
    "```\n",
    "docker pull ghcr.io/pool2win/bitcoin-dsl:release\n",
    "docker compose up bitcoin-dsl\n",
    "```"
   ]
  },
  {
   "cell_type": "code",
   "execution_count": null,
   "id": "1ac612b0-1925-48af-93c9-397d3cbbd389",
   "metadata": {},
   "outputs": [],
   "source": [
    "node :reset"
   ]
  },
  {
   "cell_type": "code",
   "execution_count": null,
   "id": "82a6a946-c6f3-4291-bfaa-21dd3c2a6021",
   "metadata": {},
   "outputs": [],
   "source": [
    "@sender_input_key = key :new\n",
    "@sender = key :new\n",
    "@receiver = key :new"
   ]
  },
  {
   "cell_type": "code",
   "execution_count": null,
   "id": "e715fc9d-cde5-4d61-bf9f-bb28dee1cb33",
   "metadata": {},
   "outputs": [],
   "source": [
    "extend_chain to: @sender_input_key, num_blocks: 101"
   ]
  },
  {
   "cell_type": "code",
   "execution_count": null,
   "id": "b6df634b-f118-48e9-9e42-1b1c77d07d59",
   "metadata": {},
   "outputs": [],
   "source": [
    "@sender_coinbase = spendable_coinbase_for @sender_input_key"
   ]
  },
  {
   "cell_type": "code",
   "execution_count": null,
   "id": "48bb6323-6efd-4eaf-bbbd-0db9e737074d",
   "metadata": {},
   "outputs": [],
   "source": [
    "@sender_dh_key = multiply point: @receiver, scalar: @sender_input_key"
   ]
  },
  {
   "cell_type": "code",
   "execution_count": null,
   "id": "e952ad11-56cd-451a-8f54-3888a506e594",
   "metadata": {},
   "outputs": [],
   "source": [
    "@taproot_output_key = tweak_public_key @receiver, with: hash160(@sender_dh_key)"
   ]
  },
  {
   "cell_type": "code",
   "execution_count": null,
   "id": "1b9fe805-9c8e-4e0e-a581-6c5297633bdf",
   "metadata": {},
   "outputs": [],
   "source": [
    "@taproot_output_tx = transaction inputs: [{ tx: @sender_coinbase, vout: 0, script_sig: 'sig:wpkh(@sender_input_key)' }],\n",
    "                                 outputs: [{ amount: 49.999.sats, taproot: { internal_key: @taproot_output_key } }]"
   ]
  },
  {
   "cell_type": "code",
   "execution_count": null,
   "id": "13985d37-d286-439f-81f7-d597062d5b06",
   "metadata": {},
   "outputs": [],
   "source": [
    "broadcast @taproot_output_tx"
   ]
  },
  {
   "cell_type": "code",
   "execution_count": null,
   "id": "e489e724-e77e-496d-a874-7d59401408e4",
   "metadata": {},
   "outputs": [],
   "source": [
    "confirm transaction: @taproot_output_tx\n",
    "extend_chain num_blocks: 100"
   ]
  },
  {
   "cell_type": "code",
   "execution_count": null,
   "id": "68316f7d-27f1-4ed0-a0dd-936e764a3f11",
   "metadata": {},
   "outputs": [],
   "source": [
    "assert_equal @taproot_output_tx.inputs[0].script_witness.stack[1].bth, @sender_input_key.pubkey"
   ]
  },
  {
   "cell_type": "code",
   "execution_count": null,
   "id": "ff571289-5c40-49fe-98ec-343aa00e3cc7",
   "metadata": {},
   "outputs": [],
   "source": [
    "@receiver_dh_share = multiply point: @sender_input_key, scalar: @receiver\n",
    "@receiver_tweaked_private_key = tweak_private_key @receiver, with: hash160(@receiver_dh_share)"
   ]
  },
  {
   "cell_type": "code",
   "execution_count": null,
   "id": "44717191-6e7f-4fd4-81c9-dd0c73bcd58d",
   "metadata": {},
   "outputs": [],
   "source": [
    "@spend_received_payment_tx = transaction inputs: [{ tx: @taproot_output_tx, vout: 0, script_sig: {keypath: @receiver_tweaked_private_key} }],\n",
    "                                         outputs: [{ amount: 49.998.sats, descriptor: 'wpkh(@sender)' }]"
   ]
  },
  {
   "cell_type": "code",
   "execution_count": null,
   "id": "0f0dc22d-7259-4c01-8a92-a8fa96894bc5",
   "metadata": {},
   "outputs": [],
   "source": [
    "assert_mempool_accept @spend_received_payment_tx"
   ]
  },
  {
   "cell_type": "code",
   "execution_count": null,
   "id": "f0670318-5c5a-45ad-9cb5-ee859eee970d",
   "metadata": {},
   "outputs": [],
   "source": [
    "broadcast @spend_received_payment_tx"
   ]
  },
  {
   "cell_type": "code",
   "execution_count": null,
   "id": "b7b54cfb-8816-4185-ac55-90e4860ff40a",
   "metadata": {},
   "outputs": [],
   "source": [
    "extend_chain num_blocks: 100"
   ]
  }
 ],
 "metadata": {
  "kernelspec": {
   "display_name": "Bitcoin DSL",
   "language": "ruby",
   "name": "ruby"
  },
  "language_info": {
   "file_extension": ".rb",
   "mimetype": "application/x-ruby",
   "name": "ruby",
   "version": "3.2.2"
  }
 },
 "nbformat": 4,
 "nbformat_minor": 5
}
