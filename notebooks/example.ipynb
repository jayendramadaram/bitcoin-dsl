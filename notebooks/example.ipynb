{
 "cells": [
  {
   "cell_type": "code",
   "execution_count": 1,
   "id": "bc50e65a-efbf-40cc-be59-e6aaa76af17d",
   "metadata": {},
   "outputs": [
    {
     "data": {
      "text/plain": [
       "0"
      ]
     },
     "execution_count": 1,
     "metadata": {},
     "output_type": "execute_result"
    }
   ],
   "source": [
    "get_height"
   ]
  },
  {
   "cell_type": "code",
   "execution_count": 2,
   "id": "039d47b3-ec9f-490a-b2b0-b97a37932078",
   "metadata": {},
   "outputs": [
    {
     "data": {
      "text/plain": [
       "#<Bitcoin::Key:0x00007f3127f6df38 @key_type=1, @secp256k1_module=Bitcoin::Secp256k1::Ruby, @priv_key=\"baee0c58c0644d4a138ffe505a99695fda2fa083abeebd3ff492812ff788a179\", @pubkey=\"024551107e9373e8db1749f0ca50b8bd1585a348ff469b1116feddf3499ca6e4bb\">"
      ]
     },
     "execution_count": 2,
     "metadata": {},
     "output_type": "execute_result"
    }
   ],
   "source": [
    "@alice = key :new\n",
    "@bob = key :new"
   ]
  },
  {
   "cell_type": "code",
   "execution_count": 3,
   "id": "8db83865-f4b7-41cd-bf06-1811514fbe5f",
   "metadata": {},
   "outputs": [
    {
     "data": {
      "text/plain": [
       "[\"4bfabd66470f2baf7b9b121b52c6163d5588b9d7ab2f9773583447586cd7eaf5\", \"0e9af079c7124b97e7b16d31162cf4516b64e13650ce2de6fa1e67c3db8a30f2\", \"3afb25b016138977730fc0cce932c90edf4f1dac02fa7982415ff15299816a78\", \"15ee74354082a7352af5b70426a1d2ad3d7a4160f846734d4703b6623053022b\", \"6131d4cc557fed904e99213552baf565dfc85814ad3169daf6cc961541890578\", \"6675a3725eb80f2bf772abf12fb6732eac060faf5571959ec18433eed7bcbe40\", \"212f6c3f3249cf2918db9c9d5e4a2f96641d80a004d0fe9353f30bb41dd4d9b5\", \"28687d333f689c7d547d8e93b804f98c14565c39f9f0a67946c310c94edb4473\", \"7ffd49f9c51cdd00c992a068db3683bf4aa9fe1c20c68a0bd0d61cf7305fd9f1\", \"3e0747a3f50471599298fb9998f6fd33e09a8d3db847dd69c444142022ec11e1\", \"548756922c64abe74800e6dcdd372dfe93db81c7ee5102c2f5057fac9d1ea3ad\", \"147121d44a5c0dd78685cb6199d1eb19de35e7fe72427ae640f325be9eac2b7b\", \"5444dc4d7c8fcaee88f7bd42df35b4ceacd9b37ce694b2682e0d89749cd490d9\", \"52d50db98f5c4ce83495e702d4f5c921cb522fe8c5b6b90a8fd57d0f070f4554\", \"72cd094829b2c28d9cbe5c1979baa9c480292f6e3fd9787e694a9971ca44c7a6\", \"42d9e7bc925aeb0ba21d44e711d0f70f0c76b30393823baff12471121ac23ce1\", \"4af020c454e9110691621de7613b601db6b91eac5408730fec8fd5c20c1a0816\", \"468b72100cc84ae24c33d2e038507cb3086829a5cfabc11e55d1dbbc63d3273b\", \"2bdd052a85cf1931499f79df124a4ad76a2b3dd88ff2c8c0657f0c438c94e682\", \"75b16ed79e4479883982da488c1eb8bc2df0919b0b3912c00b4230a584167da4\", \"232b88d684f4dc417bc32e2d323497078f383d27090114113632541ca04e7622\", \"3da91f771088dd6e2772a9d1728b91dd04811cb07545de2446c7af3c64a61464\", \"267e355b31c3dfdb82c974076b9a77bcfb239d0df395767972714d15be853464\", \"5fa204d655bc425e660d64412a3b40a6b0c9dc067a3c0c037b906d8d57921e46\", \"20d3a772bd6753dd641e7832bcd55df9d81a64957548dc34bef372abd7c9ef2e\", \"05f48ddac62bb624ad48887c910ae8844c8e7399b4f373e006fd51753ef172e5\", \"5095ce45328bda5b6d9c0233afad20618198fb8f697bd7748f707bae873e217a\", \"5dfcbb6764a4c57ffb66e18c166c442c187c9a9d1c95ceba84e032497db3903a\", \"5ad8afaf0737e6bdc2bee49eda7c21a27a3222da97399907318b46a5fb774ecf\", \"308ef4b72dff7aee9a108c4cecc0c34f4e4828ad7dbc8a37b85b9efb2bc5a450\", \"3e0cc9dfce37e6db80ffb69912401bcd1e0762048846213013e6d8d414191224\", \"306527e0c80fd36d96852c70ad94b5a436f816e6326bb335a3df66ee62f7d501\", \"16c2532276089381e4a5db539ef010d409be079bedbff04cd41705c7be754884\", \"23040cf6e761da7c35cfad4a9e2ef0e1155694ff9bb242c46cede3102689c01c\", \"2637214176dc443996592f1074421de12a93d1fb2d8dc0e9ad8389e809546233\", \"68617de4c2d94ee98f60e2d69d28348fc373eade9fa682ce1700496cb12d1d9a\", \"1a3a4ebc64fafedc01f353f246cbeda050bb05cc8dd57da61d475f3a409517cb\", \"35846f32e482e1dc95a7792ef17c969ec41de04aede2ba4e6f74a89f8e3e7d63\", \"2fbec8fed48a1bc098f7d346e01451211b519978b5166245e663cb4e7915f6f2\", \"3413b75de21da89254783831ac5d540afb0c724e6fb9c9f3a8c80a85f955a19c\", \"779ef46e829785acdbc53c211f7083e1168777d617537149ff8a4fe583e056d7\", \"421083d480dbded5e24258be2ea4475c7854d935d77cd580f35451a7c34a141d\", \"3571e57e4e823936b8c609aaf3bbdb23dd416509f194ef0234a5c4e310c83d1d\", \"00be57cda2e5ad2b6684dbed3aff136d0a9e94de95561839ebf6bd678ef98930\", \"1285ca2476bd69c86b73023d76c0e1ddc04feb4f16061ff67f6935bc409c98e1\", \"35afdabb1b3aab335344560b434a6855f80ea7022955290fc140b7560f80f281\", \"0bde39a9012a27f66435a2252ab19f65fe69088c84685d6cbc38a4333e6fcb1d\", \"79c8c2638569cb96dbb912af570b27ac2d7c7239ec832057bb013beddbcb47bb\", \"1291a16c0c532569493cd340896e09ab44a9b771b8395549e54eb5b6a492eee5\", \"7350586140de939e5351b29d04df48cdb93449d9c98c8494085fc8b6fe951e26\", \"6367e488ce5002b048bbe74b39ee8bccc8908177bb443558344a7412e30972a0\", \"7753fd64ca6441f6ea604574e2fdcd0c8f89b4466add71cee3aead1508a57efc\", \"50a5dfafca91c11d8e945b4614f137190f0701eb28ef72f49d481b47b49fa500\", \"10f1de9c9c8c804761c5f2153c4c5c9f50779ec473f972ead440a01add72acd0\", \"616a2baf5681da1506bfbbcfaa20b393db59beb42be253b62b9bea3e92eb111c\", \"0ea6d01bbf3f2d4bbb7a603f4f6516436b5965229925c79a65f67d39d75c6b7d\", \"74513cdd0ce99df2cef18b0edcdfc8b009707aced062994d448eb30a37dc1099\", \"1587bd277b5e31d9d1297416c2b774748f7c189e7c47c2d88b0dca75a5813222\", \"34d18671db86d61a877b9df37e88af05dad5208ebc99903bc633ebe2e2add2c1\", \"5b38a85b9b5b6af20a681a690c96b068bd3459add340be26d70b75c6c7e89d4c\", \"11ea9027aa2d6bb81890b71a82bbaad51ef8b232e920ea11bc4a50edeb175360\", \"6ac07ced6f25514b39a23877b525dec64f2832ee1faf2b03391aa82801f2703b\", \"75de54c993a78d69c785f70418c70ed51626088021319bcd846d38582cc959ee\", \"2b6f8b5abf9f10b7dcf0c4ae5bdefd7da24fd626fe5b80cc0ce4bcc4cd389716\", \"7e3c5a1b78a031a2e242c5a97756a8b1c0cbddcbbeefff02d23c37f389fbd369\", \"57755a30479314cace7f2d100f00609e117305ad66b62c80d89827fe38a7ee65\", \"1fcebc80695bf20dbbf2a9166b9ff578be86737ae2e4a61911c5737037640ca2\", \"142335cb6d9e61bbd6d14b983c0d75b67adf3db426e22ecb1391ffe8d88e2dcf\", \"028fe78ff8ed6806f370bdc75715cb723960b433466ff535cfb8f17c19b2cd0f\", \"06a873fbdb2031e8d913242857c5d7ddf27349553bfc71279cc0efa55c33c964\", \"09dbeaf3ac6760f7db780a6f3ddb136b473151edb4d5da45138e97e885be506f\", \"6b152db5bcab6d2b93253cf45f9721edd3795d721ded51c5610966baee8d2de6\", \"5ea1b312cf2944043a61b79c0f9cddaab863f5aee57a3c65e7e4d7354569a1bc\", \"02791db3a56505fe9f290a6ba3c70c3c54d3823a83d3b9f0fa665141eba44d2c\", \"17ecc9775115c93856265bf21171402bb25d3112d776cbe0c0c80c76462b1ede\", \"5488e2560bba542fd96771cae634105142d17fa2b76cec7073b970aca8bd8601\", \"4b16d4abfb2de37414e4e4db556a9e616c441616c9f1735c04a448ed37a6c819\", \"78fd0fc2b763282ff434ece1547a5891b3eb4b697c8b23c7fd4b67a7be2dd6ea\", \"3f918814d14454cf203624b43fab77472eecaa369d90333f9e8b5a76f80f3164\", \"3814f95567fa22e18eef566a30b2cba2ca33b4ecfd1f4104de335e7127ee67e7\", \"0efa0596e92f6665b4ff9ac2b4b632b3b0f5d3e21ab043cae5ce21b1b9a60a22\", \"21f9f968e50220e4e7c6e6e1cb54ed15766d22c82d8c67978337ba369de1523b\", \"5706b8fe3ae97d9746a5bbf1dc9af14f364412dbba020e2b793ca433ca141282\", \"554be67819179cd58f019f54cd75d09acc54944d6a2cc31e9c9442298451d751\", \"1c5f3f3ee7856d31d4dee0c2273ca9790f49e7f6f2ba8271ba4b2cf4c6027207\", \"04f34d3cf88d045d86199bc741eb802447eecffcebef56ae1e32591115ce0e9e\", \"2b57ca812cb280943bb819948a384dc3959e937f73e32fc5231505829273a2d9\", \"3338d9857988e80af684b211c29b5ac217aa86850ee94a5d17925f05727ca92a\", \"71aa28f12203b630e417be81e3b3932af72d7e5e551d59b6075b481aa7493d0f\", \"3ec87cd7191e93561bff0d43c4ce711166145fcdd49a8d9e94e58f6cca9b4c57\", \"7fec97c23fd45f3be30210f88a44874c385ea3d034eb26db50eaae01ccc4e66f\", \"74cd67240585dacf0f8039b3c68c1f65b812a0255ce8d43c852e902d9422c05f\", \"667f8f39fedd1877ae67d715eaa69bca5803b774a9a80583fdd3d19150065085\", \"767e0775222ec6c45ad0495dcf364820ae71c84be082e29400b496bf741ad16c\", \"779634a5d801c4e888ac84993d1daf581e29f6d9435a0a742373f37652056179\", \"23fca2a30186d85821c7705cd3e760c90a6ce31dc2e709af564f0fced50eda27\", \"0dffcece4720ca44d540f76c196250a9a26e82335a5f858b014afa3009d9daa3\", \"54d65451f0376be03ce1b77e1b2014bf25d3c80722ed985ce9eba4b58281fe06\", \"239912bf98f5d650b899bc712029181da58eac79513156bb09ae4322cfe1a983\", \"3fb098f6d92d4fbf0a40051d2d556f89449b75c806518cc74a8edd04fc0a9edc\", \"3a4543a09e19f3b88c39ea483c4ab987837c16e048f444afbc7117cdd58de033\"]"
      ]
     },
     "execution_count": 3,
     "metadata": {},
     "output_type": "execute_result"
    }
   ],
   "source": [
    "extend_chain to: @alice, num_blocks: 101"
   ]
  },
  {
   "cell_type": "code",
   "execution_count": 4,
   "id": "8ac9089a-4b6c-492f-a9c5-f5552eab3960",
   "metadata": {},
   "outputs": [
    {
     "data": {
      "text/plain": [
       "{\"txid\"=>\"a7da0fd57a025d1f634989c7b8debd9b05ed7ca06c10264222895998174723d8\", \"hash\"=>\"9e037823c9cccf070d939b0929b938d3d2d7184114ae8e16d8541b4e51d03a08\", \"version\"=>2, \"size\"=>167, \"vsize\"=>140, \"weight\"=>560, \"locktime\"=>0, \"vin\"=>[{\"coinbase\"=>\"5100\", \"txinwitness\"=>[\"0000000000000000000000000000000000000000000000000000000000000000\"], \"sequence\"=>4294967295}], \"vout\"=>[{\"value\"=>50.0, \"n\"=>0, \"scriptPubKey\"=>{\"asm\"=>\"0 4486d1a12e593fbd45cbf0c49bf55f769731cbef\", \"desc\"=>\"addr(bcrt1qgjrdrgfwtylm63wt7rzfha2lw6tnrjl0z5gq72)#xltucrx5\", \"hex\"=>\"00144486d1a12e593fbd45cbf0c49bf55f769731cbef\", \"address\"=>\"bcrt1qgjrdrgfwtylm63wt7rzfha2lw6tnrjl0z5gq72\", \"type\"=>\"witness_v0_keyhash\"}}, {\"value\"=>0.0, \"n\"=>1, \"scriptPubKey\"=>{\"asm\"=>\"OP_RETURN aa21a9ede2f61c3f71d1defd3fa999dfa36953755c690689799962b48bebd836974e8cf9\", \"desc\"=>\"raw(6a24aa21a9ede2f61c3f71d1defd3fa999dfa36953755c690689799962b48bebd836974e8cf9)#cav96mf3\", \"hex\"=>\"6a24aa21a9ede2f61c3f71d1defd3fa999dfa36953755c690689799962b48bebd836974e8cf9\", \"type\"=>\"nulldata\"}}], \"hex\"=>\"020000000001010000000000000000000000000000000000000000000000000000000000000000ffffffff025100ffffffff0200f2052a010000001600144486d1a12e593fbd45cbf0c49bf55f769731cbef0000000000000000266a24aa21a9ede2f61c3f71d1defd3fa999dfa36953755c690689799962b48bebd836974e8cf90120000000000000000000000000000000000000000000000000000000000000000000000000\"}"
      ]
     },
     "execution_count": 4,
     "metadata": {},
     "output_type": "execute_result"
    }
   ],
   "source": [
    "@alice_coinbase = spendable_coinbase_for @alice"
   ]
  },
  {
   "cell_type": "code",
   "execution_count": 5,
   "id": "bc452536-e23a-498b-9e61-faa04a1b6448",
   "metadata": {},
   "outputs": [
    {
     "data": {
      "text/plain": [
       "#<Bitcoin::Tx:0x00007f312807aa70 @inputs=[#<Bitcoin::TxIn:0x00007f3128078450 @out_point=#<Bitcoin::OutPoint:0x00007f3127978600 @tx_hash=\"d8234717985989224226106ca07ced059bbddeb8c78949631f5d027ad50fdaa7\", @index=0>, @script_sig=#<Bitcoin::Script:0x00007f31279784e8 @chunks=[]>, @script_witness=#<Bitcoin::ScriptWitness:0x00007f3127977430 @stack=[\"0D\\x02 \\x1E\\xA2Z\\xDE\\x8Eh\\\\\\a\\xD3\\xEE\\xE6p\\x13E\\x01Z\\x13\\x1C#\\xE6\\xCF\\x163\\xB1C\\x91M \\xFF\\xF1\\x90(\\x02 P$ZW\\xB4\\a(\\x9B\\f\\xF21\\x10\\xF9\\xC3\\xB8\\x18\\xDD\\x0E\\xA0\\xD9\\xDA5\\xC4L\\xBC\\r\\xFE\\xBBm\\xA2\\xD0X\\x01\", \"\\x02\\xBA1\\xB37mq\\xAC\\xCB\\xDCV[\\nD\\xC7>\\xA8F1pSE\\xDD\\x96A\\xDB\\x83\\x91e?\\xD8h\\xB8\"]>, @sequence=4294967295>], @outputs=[#<Bitcoin::TxOut:0x00007f31279729d0 @value=4999900000.0, @script_pubkey=#<Bitcoin::Script:0x00007f3127974e60 @chunks=[\"\\x00\", \"\\x14\\x887\\xDB*\\xEE\\xC5\\x19\\x88\\x05-9f\\xB8\\xBC\\xF7\\b}\\xE6\\xBF\\f\"]>>], @version=2, @lock_time=0, @build_params={:inputs=>[{:tx=>{\"txid\"=>\"a7da0fd57a025d1f634989c7b8debd9b05ed7ca06c10264222895998174723d8\", \"hash\"=>\"9e037823c9cccf070d939b0929b938d3d2d7184114ae8e16d8541b4e51d03a08\", \"version\"=>2, \"size\"=>167, \"vsize\"=>140, \"weight\"=>560, \"locktime\"=>0, \"vin\"=>[{\"coinbase\"=>\"5100\", \"txinwitness\"=>[\"0000000000000000000000000000000000000000000000000000000000000000\"], \"sequence\"=>4294967295}], \"vout\"=>[{\"value\"=>50.0, \"n\"=>0, \"scriptPubKey\"=>{\"asm\"=>\"0 4486d1a12e593fbd45cbf0c49bf55f769731cbef\", \"desc\"=>\"addr(bcrt1qgjrdrgfwtylm63wt7rzfha2lw6tnrjl0z5gq72)#xltucrx5\", \"hex\"=>\"00144486d1a12e593fbd45cbf0c49bf55f769731cbef\", \"address\"=>\"bcrt1qgjrdrgfwtylm63wt7rzfha2lw6tnrjl0z5gq72\", \"type\"=>\"witness_v0_keyhash\"}}, {\"value\"=>0.0, \"n\"=>1, \"scriptPubKey\"=>{\"asm\"=>\"OP_RETURN aa21a9ede2f61c3f71d1defd3fa999dfa36953755c690689799962b48bebd836974e8cf9\", \"desc\"=>\"raw(6a24aa21a9ede2f61c3f71d1defd3fa999dfa36953755c690689799962b48bebd836974e8cf9)#cav96mf3\", \"hex\"=>\"6a24aa21a9ede2f61c3f71d1defd3fa999dfa36953755c690689799962b48bebd836974e8cf9\", \"type\"=>\"nulldata\"}}], \"hex\"=>\"020000000001010000000000000000000000000000000000000000000000000000000000000000ffffffff025100ffffffff0200f2052a010000001600144486d1a12e593fbd45cbf0c49bf55f769731cbef0000000000000000266a24aa21a9ede2f61c3f71d1defd3fa999dfa36953755c690689799962b48bebd836974e8cf90120000000000000000000000000000000000000000000000000000000000000000000000000\"}, :vout=>0, :script_sig=>\"sig:wpkh(@alice)\", :utxo_details=>#<OpenStruct txid=\"a7da0fd57a025d1f634989c7b8debd9b05ed7ca06c10264222895998174723d8\", index=0, amount=50.0, script_pubkey=#<Bitcoin::Script:0x00007f312797d268 @chunks=[\"\\x00\", \"\\x14D\\x86\\xD1\\xA1.Y?\\xBDE\\xCB\\xF0\\xC4\\x9B\\xF5_v\\x971\\xCB\\xEF\"]>>}], :outputs=>[{:descriptor=>\"wpkh(@bob)\", :amount=>4999900000.0}]}>"
      ]
     },
     "execution_count": 5,
     "metadata": {},
     "output_type": "execute_result"
    }
   ],
   "source": [
    "@alice_to_bob = transaction inputs: [ { tx: @alice_coinbase, vout: 0, script_sig: 'sig:wpkh(@alice)' } ],\n",
    "                            outputs: [ { descriptor: 'wpkh(@bob)', amount: 49.999.sats } ]"
   ]
  },
  {
   "cell_type": "code",
   "execution_count": 6,
   "id": "c167a4d1-d9ed-42b7-8a24-ddc1c115a873",
   "metadata": {},
   "outputs": [
    {
     "data": {
      "text/plain": [
       "\"accepted\""
      ]
     },
     "execution_count": 6,
     "metadata": {},
     "output_type": "execute_result"
    }
   ],
   "source": [
    "assert_mempool_accept @alice_to_bob"
   ]
  },
  {
   "cell_type": "code",
   "execution_count": 7,
   "id": "4b51685a-b6c4-4637-a588-24937bd0788c",
   "metadata": {},
   "outputs": [],
   "source": [
    "broadcast @alice_to_bob"
   ]
  },
  {
   "cell_type": "code",
   "execution_count": 8,
   "id": "3d5266c1-8eea-4da6-a4f1-c40a84e3b389",
   "metadata": {},
   "outputs": [
    {
     "data": {
      "text/plain": [
       "#<Bitcoin::Tx:0x00007f312807aa70 @inputs=[#<Bitcoin::TxIn:0x00007f3128078450 @out_point=#<Bitcoin::OutPoint:0x00007f3127978600 @tx_hash=\"d8234717985989224226106ca07ced059bbddeb8c78949631f5d027ad50fdaa7\", @index=0>, @script_sig=#<Bitcoin::Script:0x00007f31279784e8 @chunks=[]>, @script_witness=#<Bitcoin::ScriptWitness:0x00007f3127977430 @stack=[\"0D\\x02 \\x1E\\xA2Z\\xDE\\x8Eh\\\\\\a\\xD3\\xEE\\xE6p\\x13E\\x01Z\\x13\\x1C#\\xE6\\xCF\\x163\\xB1C\\x91M \\xFF\\xF1\\x90(\\x02 P$ZW\\xB4\\a(\\x9B\\f\\xF21\\x10\\xF9\\xC3\\xB8\\x18\\xDD\\x0E\\xA0\\xD9\\xDA5\\xC4L\\xBC\\r\\xFE\\xBBm\\xA2\\xD0X\\x01\", \"\\x02\\xBA1\\xB37mq\\xAC\\xCB\\xDCV[\\nD\\xC7>\\xA8F1pSE\\xDD\\x96A\\xDB\\x83\\x91e?\\xD8h\\xB8\"]>, @sequence=4294967295>], @outputs=[#<Bitcoin::TxOut:0x00007f31279729d0 @value=4999900000.0, @script_pubkey=#<Bitcoin::Script:0x00007f3127974e60 @chunks=[\"\\x00\", \"\\x14\\x887\\xDB*\\xEE\\xC5\\x19\\x88\\x05-9f\\xB8\\xBC\\xF7\\b}\\xE6\\xBF\\f\"]>>], @version=2, @lock_time=0, @build_params={:inputs=>[{:tx=>{\"txid\"=>\"a7da0fd57a025d1f634989c7b8debd9b05ed7ca06c10264222895998174723d8\", \"hash\"=>\"9e037823c9cccf070d939b0929b938d3d2d7184114ae8e16d8541b4e51d03a08\", \"version\"=>2, \"size\"=>167, \"vsize\"=>140, \"weight\"=>560, \"locktime\"=>0, \"vin\"=>[{\"coinbase\"=>\"5100\", \"txinwitness\"=>[\"0000000000000000000000000000000000000000000000000000000000000000\"], \"sequence\"=>4294967295}], \"vout\"=>[{\"value\"=>50.0, \"n\"=>0, \"scriptPubKey\"=>{\"asm\"=>\"0 4486d1a12e593fbd45cbf0c49bf55f769731cbef\", \"desc\"=>\"addr(bcrt1qgjrdrgfwtylm63wt7rzfha2lw6tnrjl0z5gq72)#xltucrx5\", \"hex\"=>\"00144486d1a12e593fbd45cbf0c49bf55f769731cbef\", \"address\"=>\"bcrt1qgjrdrgfwtylm63wt7rzfha2lw6tnrjl0z5gq72\", \"type\"=>\"witness_v0_keyhash\"}}, {\"value\"=>0.0, \"n\"=>1, \"scriptPubKey\"=>{\"asm\"=>\"OP_RETURN aa21a9ede2f61c3f71d1defd3fa999dfa36953755c690689799962b48bebd836974e8cf9\", \"desc\"=>\"raw(6a24aa21a9ede2f61c3f71d1defd3fa999dfa36953755c690689799962b48bebd836974e8cf9)#cav96mf3\", \"hex\"=>\"6a24aa21a9ede2f61c3f71d1defd3fa999dfa36953755c690689799962b48bebd836974e8cf9\", \"type\"=>\"nulldata\"}}], \"hex\"=>\"020000000001010000000000000000000000000000000000000000000000000000000000000000ffffffff025100ffffffff0200f2052a010000001600144486d1a12e593fbd45cbf0c49bf55f769731cbef0000000000000000266a24aa21a9ede2f61c3f71d1defd3fa999dfa36953755c690689799962b48bebd836974e8cf90120000000000000000000000000000000000000000000000000000000000000000000000000\"}, :vout=>0, :script_sig=>\"sig:wpkh(@alice)\", :utxo_details=>#<OpenStruct txid=\"a7da0fd57a025d1f634989c7b8debd9b05ed7ca06c10264222895998174723d8\", index=0, amount=50.0, script_pubkey=#<Bitcoin::Script:0x00007f312797d268 @chunks=[\"\\x00\", \"\\x14D\\x86\\xD1\\xA1.Y?\\xBDE\\xCB\\xF0\\xC4\\x9B\\xF5_v\\x971\\xCB\\xEF\"]>>}], :outputs=>[{:descriptor=>\"wpkh(@bob)\", :amount=>4999900000.0}]}>"
      ]
     },
     "execution_count": 8,
     "metadata": {},
     "output_type": "execute_result"
    }
   ],
   "source": [
    "confirm transaction: @alice_to_bob"
   ]
  },
  {
   "cell_type": "code",
   "execution_count": 9,
   "id": "7e733627-d320-4ead-9b6b-60b2e186f90b",
   "metadata": {},
   "outputs": [
    {
     "data": {
      "text/plain": [
       "#<Bitcoin::Tx:0x00007f312807aa70 @inputs=[#<Bitcoin::TxIn:0x00007f3128078450 @out_point=#<Bitcoin::OutPoint:0x00007f3127978600 @tx_hash=\"d8234717985989224226106ca07ced059bbddeb8c78949631f5d027ad50fdaa7\", @index=0>, @script_sig=#<Bitcoin::Script:0x00007f31279784e8 @chunks=[]>, @script_witness=#<Bitcoin::ScriptWitness:0x00007f3127977430 @stack=[\"0D\\x02 \\x1E\\xA2Z\\xDE\\x8Eh\\\\\\a\\xD3\\xEE\\xE6p\\x13E\\x01Z\\x13\\x1C#\\xE6\\xCF\\x163\\xB1C\\x91M \\xFF\\xF1\\x90(\\x02 P$ZW\\xB4\\a(\\x9B\\f\\xF21\\x10\\xF9\\xC3\\xB8\\x18\\xDD\\x0E\\xA0\\xD9\\xDA5\\xC4L\\xBC\\r\\xFE\\xBBm\\xA2\\xD0X\\x01\", \"\\x02\\xBA1\\xB37mq\\xAC\\xCB\\xDCV[\\nD\\xC7>\\xA8F1pSE\\xDD\\x96A\\xDB\\x83\\x91e?\\xD8h\\xB8\"]>, @sequence=4294967295>], @outputs=[#<Bitcoin::TxOut:0x00007f31279729d0 @value=4999900000.0, @script_pubkey=#<Bitcoin::Script:0x00007f3127974e60 @chunks=[\"\\x00\", \"\\x14\\x887\\xDB*\\xEE\\xC5\\x19\\x88\\x05-9f\\xB8\\xBC\\xF7\\b}\\xE6\\xBF\\f\"]>>], @version=2, @lock_time=0, @build_params={:inputs=>[{:tx=>{\"txid\"=>\"a7da0fd57a025d1f634989c7b8debd9b05ed7ca06c10264222895998174723d8\", \"hash\"=>\"9e037823c9cccf070d939b0929b938d3d2d7184114ae8e16d8541b4e51d03a08\", \"version\"=>2, \"size\"=>167, \"vsize\"=>140, \"weight\"=>560, \"locktime\"=>0, \"vin\"=>[{\"coinbase\"=>\"5100\", \"txinwitness\"=>[\"0000000000000000000000000000000000000000000000000000000000000000\"], \"sequence\"=>4294967295}], \"vout\"=>[{\"value\"=>50.0, \"n\"=>0, \"scriptPubKey\"=>{\"asm\"=>\"0 4486d1a12e593fbd45cbf0c49bf55f769731cbef\", \"desc\"=>\"addr(bcrt1qgjrdrgfwtylm63wt7rzfha2lw6tnrjl0z5gq72)#xltucrx5\", \"hex\"=>\"00144486d1a12e593fbd45cbf0c49bf55f769731cbef\", \"address\"=>\"bcrt1qgjrdrgfwtylm63wt7rzfha2lw6tnrjl0z5gq72\", \"type\"=>\"witness_v0_keyhash\"}}, {\"value\"=>0.0, \"n\"=>1, \"scriptPubKey\"=>{\"asm\"=>\"OP_RETURN aa21a9ede2f61c3f71d1defd3fa999dfa36953755c690689799962b48bebd836974e8cf9\", \"desc\"=>\"raw(6a24aa21a9ede2f61c3f71d1defd3fa999dfa36953755c690689799962b48bebd836974e8cf9)#cav96mf3\", \"hex\"=>\"6a24aa21a9ede2f61c3f71d1defd3fa999dfa36953755c690689799962b48bebd836974e8cf9\", \"type\"=>\"nulldata\"}}], \"hex\"=>\"020000000001010000000000000000000000000000000000000000000000000000000000000000ffffffff025100ffffffff0200f2052a010000001600144486d1a12e593fbd45cbf0c49bf55f769731cbef0000000000000000266a24aa21a9ede2f61c3f71d1defd3fa999dfa36953755c690689799962b48bebd836974e8cf90120000000000000000000000000000000000000000000000000000000000000000000000000\"}, :vout=>0, :script_sig=>\"sig:wpkh(@alice)\", :utxo_details=>#<OpenStruct txid=\"a7da0fd57a025d1f634989c7b8debd9b05ed7ca06c10264222895998174723d8\", index=0, amount=50.0, script_pubkey=#<Bitcoin::Script:0x00007f312797d268 @chunks=[\"\\x00\", \"\\x14D\\x86\\xD1\\xA1.Y?\\xBDE\\xCB\\xF0\\xC4\\x9B\\xF5_v\\x971\\xCB\\xEF\"]>>}], :outputs=>[{:descriptor=>\"wpkh(@bob)\", :amount=>4999900000.0}]}>"
      ]
     },
     "execution_count": 9,
     "metadata": {},
     "output_type": "execute_result"
    }
   ],
   "source": [
    "assert_confirmations @alice_to_bob, confirmations: 1"
   ]
  }
 ],
 "metadata": {
  "kernelspec": {
   "display_name": "Bitcoin DSL",
   "language": "ruby",
   "name": "ruby"
  },
  "language_info": {
   "file_extension": ".rb",
   "mimetype": "application/x-ruby",
   "name": "ruby",
   "version": "3.2.2"
  }
 },
 "nbformat": 4,
 "nbformat_minor": 5
}
