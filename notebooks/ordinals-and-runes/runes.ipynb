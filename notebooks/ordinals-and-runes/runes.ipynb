{
 "cells": [
  {
   "cell_type": "code",
   "execution_count": null,
   "id": "66feea7d-6311-4e7b-9443-ec6c6a346264",
   "metadata": {},
   "outputs": [],
   "source": [
    "@alice = key :new\n",
    "@bob = key :new\n",
    "get_height"
   ]
  },
  {
   "cell_type": "code",
   "execution_count": null,
   "id": "1cbebaa8-af2a-4724-8a3a-024eab5e6ceb",
   "metadata": {},
   "outputs": [],
   "source": [
    "extend_chain to: @alice, num_blocks: 101"
   ]
  },
  {
   "cell_type": "code",
   "execution_count": null,
   "id": "b95347df-2cea-45fb-b324-81e40ee755ed",
   "metadata": {},
   "outputs": [],
   "source": [
    "@alice_coinbase = spendable_coinbase_for @alice"
   ]
  },
  {
   "cell_type": "markdown",
   "id": "a3be4c43-fd3c-47c1-8497-d1d47519d137",
   "metadata": {},
   "source": [
    "## Runes\n",
    "\n",
    "### Minting\n",
    "\n",
    "In a single transaction a rune is minted and transferred to Alice\n",
    "1. We create 100 runes with symbol 'PINK'\n",
    "2. We transfer runs to first output - essentially making Alice own all the PINK runes\n",
    "\n",
    "### Serialization\n",
    "\n",
    "We don't follow the exact serialization algorithm described in the links below. Instead, we just do some etching, minting and transfers to communicate the essence of Runes. The serialization semantics described in the ordinals repository help push multiple, etchings, minting and transfers in a single OP_RETURN.\n",
    "\n",
    "References to serialization:\n",
    "\n",
    "https://github.com/ordinals/ord/blob/master/docs/src/runes/specification.md\n",
    "\n",
    "https://docs.ordinals.com/runes/specification.html?highlight=base-26#deciphering"
   ]
  },
  {
   "cell_type": "markdown",
   "id": "321f6691-4525-4b42-a113-fb214b05aea0",
   "metadata": {},
   "source": [
    "# Etching a Rune\n",
    "\n",
    "Runes come into existence by being ethced. There are a few advanced things we can do, but here we just focus on the divisibilty and the name. We use 'AB' as the name and provide a divisibility of eight."
   ]
  },
  {
   "cell_type": "code",
   "execution_count": null,
   "id": "7a177d7d-9eed-4014-ad02-e50a8df4baca",
   "metadata": {},
   "outputs": [],
   "source": [
    "@marker = Bitcoin::Opcodes::OP_13 # marker for runestone\n",
    "@etch = [8, 27]  # divisibility: 8, rune 27 is 'AB' in modified base-26"
   ]
  },
  {
   "cell_type": "code",
   "execution_count": null,
   "id": "463aa26e-7710-4bf8-8c1a-5e24aa214706",
   "metadata": {},
   "outputs": [],
   "source": [
    "@alice_etches_runes = transaction inputs: [ {tx: @alice_coinbase, vout: 0, script_sig: 'sig:wpkh(@alice)' }],\n",
    "                                outputs: [ \n",
    "                                    {amount: 49.998.sats, script: 'OP_DUP OP_HASH160 hash160(@alice) OP_EQUALVERIFY OP_CHECKSIG'},\n",
    "                                    {amount: 0, script: 'OP_RETURN @etch'}\n",
    "                                ]"
   ]
  },
  {
   "cell_type": "code",
   "execution_count": null,
   "id": "aedb127a-f2fd-49c4-8bb7-78827ae70f6f",
   "metadata": {},
   "outputs": [],
   "source": [
    "broadcast @alice_etches_runes\n",
    "confirm transaction: @alice_etches_runes"
   ]
  },
  {
   "cell_type": "markdown",
   "id": "7f32e43c-551a-44fd-a4dc-919f1eef4b9f",
   "metadata": {},
   "source": [
    "# Minting Runes\n",
    "\n",
    "Once a rune has been \"etched\", we can start minting it. In practice the transaction that etches runes will also mint or premine them - both supported by the runes protocol. Here we let anyone mint some 'AB' runes. \n",
    "\n",
    "## Rune ID\n",
    "First We need a rune id, which is blockhash and txid pair - so we get that next."
   ]
  },
  {
   "cell_type": "code",
   "execution_count": null,
   "id": "1fe95415-3d23-4c72-a23f-5bc73edd7bc3",
   "metadata": {},
   "outputs": [],
   "source": [
    "@blockhash = get_block_confirmed_at transaction: @alice_etches_runes\n",
    "@rune_id = \"#{@blockhash}:#{@alice_etches_runes.txid}\""
   ]
  },
  {
   "cell_type": "markdown",
   "id": "ca2e4b26-85ea-4493-ad54-fcd44063994f",
   "metadata": {},
   "source": [
    "# Minting transaction\n",
    "\n",
    "Alice can now mint runes. In practice, ethcing, minting, transfer can all happen in the same transaction. We avoid doing so here to make it easier to describe the protocol, and also to avoid writing the runes serde protocol."
   ]
  },
  {
   "cell_type": "code",
   "execution_count": null,
   "id": "feaa31de-3466-4673-9d10-12423a2ab101",
   "metadata": {},
   "outputs": [],
   "source": [
    "assert_output_is_spent transaction: @alice_coinbase, vout: 0"
   ]
  },
  {
   "cell_type": "code",
   "execution_count": null,
   "id": "dcb4b0d9-9ec4-4f7d-846f-068bb95d17c2",
   "metadata": {},
   "outputs": [],
   "source": [
    "@alice_mints_runes = transaction inputs: [ {tx: @alice_coinbase, vout: 0, script_sig: 'sig:wpkh(@alice)' } ],\n",
    "                                 outputs: [ {amount: 49.997.sats, script: 'OP_DUP OP_HASH160 hash160(@bob) OP_EQUALVERIFY OP_CHECKSIG OP_RETURN} ]"
   ]
  }
 ],
 "metadata": {
  "kernelspec": {
   "display_name": "Bitcoin DSL",
   "language": "ruby",
   "name": "ruby"
  },
  "language_info": {
   "file_extension": ".rb",
   "mimetype": "application/x-ruby",
   "name": "ruby",
   "version": "3.2.2"
  }
 },
 "nbformat": 4,
 "nbformat_minor": 5
}
